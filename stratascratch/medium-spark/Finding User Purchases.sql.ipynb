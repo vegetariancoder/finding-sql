{
 "cells": [
  {
   "cell_type": "code",
   "execution_count": 1,
   "outputs": [
    {
     "name": "stderr",
     "output_type": "stream",
     "text": [
      "Using Spark's default log4j profile: org/apache/spark/log4j-defaults.properties\n",
      "Setting default log level to \"WARN\".\n",
      "To adjust logging level use sc.setLogLevel(newLevel). For SparkR, use setLogLevel(newLevel).\n",
      "23/08/04 08:51:28 WARN NativeCodeLoader: Unable to load native-hadoop library for your platform... using builtin-java classes where applicable\n",
      "23/08/04 08:51:29 WARN Utils: Service 'SparkUI' could not bind on port 4040. Attempting port 4041.\n"
     ]
    },
    {
     "name": "stdout",
     "output_type": "stream",
     "text": [
      "+---+-------+-------+----------+-------+\n",
      "| id|user_id|   item|created_at|revenue|\n",
      "+---+-------+-------+----------+-------+\n",
      "| 29|    100|   milk|2020-03-29|    410|\n",
      "| 74|    100| banana|2020-03-13|    175|\n",
      "| 20|    100| banana|2020-03-18|    599|\n",
      "| 95|    100|  bread|2020-03-07|    410|\n",
      "| 65|    101|   milk|2020-03-26|    740|\n",
      "| 27|    101|   milk|2020-03-01|    449|\n",
      "| 24|    102|  bread|2020-03-25|    325|\n",
      "|  6|    103|  bread|2020-03-29|    862|\n",
      "| 22|    103|   milk|2020-03-31|    290|\n",
      "| 32|    104|biscuit|2020-03-31|    957|\n",
      "| 82|    105| banana|2020-03-09|    972|\n",
      "| 75|    105| banana|2020-03-05|    815|\n",
      "| 58|    105|  bread|2020-03-21|    562|\n",
      "| 96|    106|   milk|2020-03-21|    379|\n",
      "| 93|    107|  bread|2020-03-01|    701|\n",
      "|  4|    108| banana|2020-03-18|    862|\n",
      "|  1|    109|   milk|2020-03-03|    123|\n",
      "| 40|    109|  bread|2020-03-02|    362|\n",
      "| 26|    109|  bread|2020-03-22|    432|\n",
      "| 41|    110|  bread|2020-03-13|    262|\n",
      "+---+-------+-------+----------+-------+\n",
      "only showing top 20 rows\n",
      "\n"
     ]
    }
   ],
   "source": [
    "from pyspark.sql.session import SparkSession\n",
    "\n",
    "spark = SparkSession\\\n",
    "    .builder\\\n",
    "    .master(\"local[*]\")\\\n",
    "    .appName(\"strata\")\\\n",
    "    .getOrCreate()\n",
    "\n",
    "data = spark\\\n",
    "    .read\\\n",
    "    .format(\"csv\")\\\n",
    "    .option(\"header\",True)\\\n",
    "    .option(\"inferSchema\",True)\\\n",
    "    .option(\"delimiter\", \"\\t\")\\\n",
    "    .load(\"/Users/sahilnagpal/Desktop/finding-sql/stratascratch/data/userpurchase.csv\")\n",
    "\n",
    "data.show()"
   ],
   "metadata": {
    "collapsed": false,
    "pycharm": {
     "name": "#%%\n"
    }
   }
  },
  {
   "cell_type": "code",
   "execution_count": 5,
   "outputs": [
    {
     "name": "stdout",
     "output_type": "stream",
     "text": [
      "+-------+\n",
      "|user_id|\n",
      "+-------+\n",
      "|    100|\n",
      "|    103|\n",
      "|    105|\n",
      "|    109|\n",
      "|    110|\n",
      "|    111|\n",
      "|    112|\n",
      "|    114|\n",
      "|    117|\n",
      "|    120|\n",
      "|    122|\n",
      "|    128|\n",
      "|    129|\n",
      "|    130|\n",
      "|    131|\n",
      "|    133|\n",
      "|    141|\n",
      "|    143|\n",
      "|    150|\n",
      "+-------+\n",
      "\n"
     ]
    }
   ],
   "source": [
    "from pyspark.sql.functions import col, lead,datediff\n",
    "from pyspark.sql.window import Window\n",
    "\n",
    "data\\\n",
    "    .withColumn(\"next\",lead(col(\"created_at\")).over(Window.partitionBy(col(\"user_id\")).orderBy(col(\"created_at\"))))\\\n",
    "    .withColumn(\"diff\",datediff(col(\"next\"),col(\"created_at\")))\\\n",
    "    .filter(col(\"diff\")<=7)\\\n",
    "    .select(\"user_id\")\\\n",
    "    .distinct()\\\n",
    "    .show()"
   ],
   "metadata": {
    "collapsed": false,
    "pycharm": {
     "name": "#%%\n"
    }
   }
  },
  {
   "cell_type": "code",
   "execution_count": null,
   "outputs": [],
   "source": [],
   "metadata": {
    "collapsed": false,
    "pycharm": {
     "name": "#%%\n"
    }
   }
  }
 ],
 "metadata": {
  "kernelspec": {
   "display_name": "Python 3",
   "language": "python",
   "name": "python3"
  },
  "language_info": {
   "codemirror_mode": {
    "name": "ipython",
    "version": 2
   },
   "file_extension": ".py",
   "mimetype": "text/x-python",
   "name": "python",
   "nbconvert_exporter": "python",
   "pygments_lexer": "ipython2",
   "version": "2.7.6"
  }
 },
 "nbformat": 4,
 "nbformat_minor": 0
}