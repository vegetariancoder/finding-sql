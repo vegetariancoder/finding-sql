{
 "cells": [
  {
   "cell_type": "code",
   "execution_count": 16,
   "outputs": [
    {
     "name": "stdout",
     "output_type": "stream",
     "text": [
      "+--------------------+--------------------+--------------------+-------------+--------------+-----------+-----+-------+------+----+--------------------+\n",
      "|             company|              sector|            industry|    continent|       country|marketvalue|sales|profits|assets|rank|       forbeswebpage|\n",
      "+--------------------+--------------------+--------------------+-------------+--------------+-----------+-----+-------+------+----+--------------------+\n",
      "|                ICBC|          Financials|         Major Banks|         Asia|         China|      215.6|148.7|   42.7|3124.9|   1|http://www.forbes...|\n",
      "|China Constructio...|          Financials|      Regional Banks|         Asia|         China|      174.4|121.3|   34.2|2449.5|   2|http://www.forbes...|\n",
      "|Agricultural Bank...|          Financials|      Regional Banks|         Asia|         China|      141.1|136.4|   27.0|2405.4|   3|http://www.forbes...|\n",
      "|      JPMorgan Chase|          Financials|         Major Banks|North America| United States|      229.7|105.7|   17.3|2435.3|   4|http://www.forbes...|\n",
      "|  Berkshire Hathaway|          Financials| Investment Services|North America| United States|      309.1|178.8|   19.5| 493.4|   5|http://www.forbes...|\n",
      "|         Exxon Mobil|              Energy|Oil & Gas Operations|North America| United States|      422.3|394.0|   32.6| 346.8|   6|http://www.forbes...|\n",
      "|    General Electric|         Industrials|       Conglomerates|North America| United States|      259.6|143.3|   14.8| 656.6|   7|http://www.forbes...|\n",
      "|         Wells Fargo|          Financials|         Major Banks|North America| United States|      261.4| 88.7|   21.9|1543.0|   8|http://www.forbes...|\n",
      "|       Bank of China|          Financials|         Major Banks|         Asia|         China|      124.2|105.1|   25.5|2291.8|   9|http://www.forbes...|\n",
      "|          PetroChina|              Energy|Oil & Gas Operations|         Asia|         China|      202.0|328.5|   21.1| 386.9|  10|http://www.forbes...|\n",
      "|   Royal Dutch Shell|              Energy|Oil & Gas Operations|       Europe|   Netherlands|      234.1|451.4|   16.4| 357.5|  11|http://www.forbes...|\n",
      "|        Toyota Motor|Consumer Discreti...|Auto & Truck Manu...|         Asia|         Japan|      193.5|255.6|   18.8| 385.5|  12|http://www.forbes...|\n",
      "|     Bank of America|          Financials|         Major Banks|North America| United States|      183.3|101.5|   11.4|2113.8|  13|http://www.forbes...|\n",
      "|       HSBC Holdings|          Financials|         Major Banks|       Europe|United Kingdom|      192.6| 79.6|   16.3|2671.3|  14|http://www.forbes...|\n",
      "|               Apple|Information Techn...|   Computer Hardware|North America| United States|      483.1|173.8|   37.0| 225.2|  15|http://www.forbes...|\n",
      "|           Citigroup|          Financials|         Major Banks|North America| United States|      145.1| 94.1|   13.4|1883.4|  16|http://www.forbes...|\n",
      "|                  BP|              Energy|Oil & Gas Operations|       Europe|United Kingdom|      148.8|379.2|   23.6| 305.7|  17|http://www.forbes...|\n",
      "|             Chevron|              Energy|Oil & Gas Operations|North America| United States|      227.2|211.8|   21.4| 253.8|  18|http://www.forbes...|\n",
      "|    Volkswagen Group|Consumer Discreti...|Auto & Truck Manu...|       Europe|       Germany|      119.0|261.5|   12.0| 446.9|  19|http://www.forbes...|\n",
      "|     Wal-Mart Stores|Consumer Discreti...|     Discount Stores|North America| United States|      247.9|476.5|   16.0| 204.8|  20|http://www.forbes...|\n",
      "+--------------------+--------------------+--------------------+-------------+--------------+-----------+-----+-------+------+----+--------------------+\n",
      "only showing top 20 rows\n",
      "\n"
     ]
    }
   ],
   "source": [
    "from pyspark.sql.session import SparkSession\n",
    "\n",
    "spark = SparkSession\\\n",
    "    .builder\\\n",
    "    .master(\"local[*]\")\\\n",
    "    .appName(\"strata\")\\\n",
    "    .getOrCreate()\n",
    "\n",
    "data = spark\\\n",
    "    .read\\\n",
    "    .format(\"csv\")\\\n",
    "    .option(\"header\",True)\\\n",
    "    .option(\"inferSchema\",True)\\\n",
    "    .option(\"delimiter\", \"\\t\")\\\n",
    "    .load(\"/Users/sahilnagpal/Desktop/finding-sql/stratascratch/data/mostprofitablecompany.csv\")\n",
    "\n",
    "data.show()"
   ],
   "metadata": {
    "collapsed": false,
    "pycharm": {
     "name": "#%%\n"
    }
   }
  },
  {
   "cell_type": "code",
   "execution_count": 18,
   "outputs": [
    {
     "name": "stdout",
     "output_type": "stream",
     "text": [
      "+-------+-------+\n",
      "|company|profits|\n",
      "+-------+-------+\n",
      "|   ICBC|   42.7|\n",
      "|Gazprom|   39.0|\n",
      "|  Apple|   37.0|\n",
      "+-------+-------+\n",
      "\n"
     ]
    },
    {
     "name": "stderr",
     "output_type": "stream",
     "text": [
      "23/07/23 20:35:17 WARN WindowExec: No Partition Defined for Window operation! Moving all data to a single partition, this can cause serious performance degradation.\n",
      "23/07/23 20:35:17 WARN WindowExec: No Partition Defined for Window operation! Moving all data to a single partition, this can cause serious performance degradation.\n",
      "23/07/23 20:35:17 WARN WindowExec: No Partition Defined for Window operation! Moving all data to a single partition, this can cause serious performance degradation.\n"
     ]
    }
   ],
   "source": [
    "from pyspark.sql.window import Window\n",
    "from pyspark.sql.functions import dense_rank,col\n",
    "\n",
    "data\\\n",
    "    .select(\"company\",\"profits\")\\\n",
    "    .withColumn(\"drnk\",dense_rank().over(Window.orderBy(col(\"profits\").desc())))\\\n",
    "    .filter(col(\"drnk\")<=3)\\\n",
    "    .drop(col(\"drnk\"))\\\n",
    "    .show()"
   ],
   "metadata": {
    "collapsed": false,
    "pycharm": {
     "name": "#%%\n"
    }
   }
  },
  {
   "cell_type": "code",
   "execution_count": null,
   "outputs": [],
   "source": [],
   "metadata": {
    "collapsed": false,
    "pycharm": {
     "name": "#%%\n"
    }
   }
  }
 ],
 "metadata": {
  "kernelspec": {
   "display_name": "Python 3",
   "language": "python",
   "name": "python3"
  },
  "language_info": {
   "codemirror_mode": {
    "name": "ipython",
    "version": 2
   },
   "file_extension": ".py",
   "mimetype": "text/x-python",
   "name": "python",
   "nbconvert_exporter": "python",
   "pygments_lexer": "ipython2",
   "version": "2.7.6"
  }
 },
 "nbformat": 4,
 "nbformat_minor": 0
}