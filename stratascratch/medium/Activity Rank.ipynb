{
 "cells": [
  {
   "cell_type": "code",
   "execution_count": 1,
   "outputs": [
    {
     "name": "stderr",
     "output_type": "stream",
     "text": [
      "Using Spark's default log4j profile: org/apache/spark/log4j-defaults.properties\n",
      "Setting default log level to \"WARN\".\n",
      "To adjust logging level use sc.setLogLevel(newLevel). For SparkR, use setLogLevel(newLevel).\n",
      "23/07/27 15:41:46 WARN NativeCodeLoader: Unable to load native-hadoop library for your platform... using builtin-java classes where applicable\n",
      "23/07/27 15:41:47 WARN Utils: Service 'SparkUI' could not bind on port 4040. Attempting port 4041.\n"
     ]
    },
    {
     "name": "stdout",
     "output_type": "stream",
     "text": [
      "+---+------------------+------------------+---+\n",
      "| id|         from_user|           to_user|day|\n",
      "+---+------------------+------------------+---+\n",
      "|  0|6edf0be4b2267df1fa|75d295377a46f83236| 10|\n",
      "|  1|6edf0be4b2267df1fa| 32ded68d89443e808|  6|\n",
      "|  2|6edf0be4b2267df1fa|55e60cfcc9dc49c17e| 10|\n",
      "|  3|6edf0be4b2267df1fa|e0e0defbb9ec47f6f7|  6|\n",
      "|  4|6edf0be4b2267df1fa|47be2887786891367e|  1|\n",
      "|  5|6edf0be4b2267df1fa|2813e59cf6c1ff698e|  6|\n",
      "|  6|6edf0be4b2267df1fa|a84065b7933ad01019|  8|\n",
      "|  7|6edf0be4b2267df1fa|850badf89ed8f06854|  1|\n",
      "|  8|6edf0be4b2267df1fa|6b503743a13d778200|  1|\n",
      "|  9|6edf0be4b2267df1fa|d63386c884aeb9f71d|  3|\n",
      "| 10|6edf0be4b2267df1fa|5b8754928306a18b68|  2|\n",
      "| 11|6edf0be4b2267df1fa|6edf0be4b2267df1fa|  8|\n",
      "| 12|6edf0be4b2267df1fa|406539987dd9b679c0|  9|\n",
      "| 13|6edf0be4b2267df1fa|114bafadff2d882864|  5|\n",
      "| 14|6edf0be4b2267df1fa|157e3e9278e32aba3e|  2|\n",
      "| 15|75d295377a46f83236|75d295377a46f83236|  6|\n",
      "| 16|75d295377a46f83236|d63386c884aeb9f71d|  8|\n",
      "| 17|75d295377a46f83236|55e60cfcc9dc49c17e|  3|\n",
      "| 18|75d295377a46f83236|47be2887786891367e| 10|\n",
      "| 19|75d295377a46f83236|5b8754928306a18b68| 10|\n",
      "+---+------------------+------------------+---+\n",
      "only showing top 20 rows\n",
      "\n"
     ]
    }
   ],
   "source": [
    "from pyspark.sql.session import SparkSession\n",
    "\n",
    "spark = SparkSession\\\n",
    "    .builder\\\n",
    "    .master(\"local[*]\")\\\n",
    "    .appName(\"strata\")\\\n",
    "    .getOrCreate()\n",
    "\n",
    "google_gmail_emails = spark\\\n",
    "    .read\\\n",
    "    .format(\"csv\")\\\n",
    "    .option(\"header\",True)\\\n",
    "    .option(\"inferSchema\",True)\\\n",
    "    .option(\"delimiter\", \"\\t\")\\\n",
    "    .load(\"/Users/sahilnagpal/Desktop/finding-sql/stratascratch/data/google_gmail_emails.csv\")\n",
    "\n",
    "google_gmail_emails.show()"
   ],
   "metadata": {
    "collapsed": false,
    "pycharm": {
     "name": "#%%\n"
    }
   }
  },
  {
   "cell_type": "code",
   "execution_count": 4,
   "outputs": [
    {
     "name": "stderr",
     "output_type": "stream",
     "text": [
      "23/07/27 15:44:24 WARN WindowExec: No Partition Defined for Window operation! Moving all data to a single partition, this can cause serious performance degradation.\n",
      "23/07/27 15:44:24 WARN WindowExec: No Partition Defined for Window operation! Moving all data to a single partition, this can cause serious performance degradation.\n",
      "23/07/27 15:44:24 WARN WindowExec: No Partition Defined for Window operation! Moving all data to a single partition, this can cause serious performance degradation.\n",
      "23/07/27 15:44:24 WARN WindowExec: No Partition Defined for Window operation! Moving all data to a single partition, this can cause serious performance degradation.\n"
     ]
    },
    {
     "name": "stdout",
     "output_type": "stream",
     "text": [
      "+------------------+---+----------+\n",
      "|         from_user|cnt|row_number|\n",
      "+------------------+---+----------+\n",
      "| 32ded68d89443e808| 19|         1|\n",
      "|ef5fe98c6b9f313075| 19|         2|\n",
      "|5b8754928306a18b68| 18|         3|\n",
      "|55e60cfcc9dc49c17e| 16|         4|\n",
      "|91f59516cb9dee1e88| 16|         5|\n",
      "|6edf0be4b2267df1fa| 15|         6|\n",
      "|7cfe354d9a64bf8173| 15|         7|\n",
      "| cbc4bd40cd1687754| 15|         8|\n",
      "|e0e0defbb9ec47f6f7| 15|         9|\n",
      "|8bba390b53976da0cd| 14|        10|\n",
      "|a84065b7933ad01019| 14|        11|\n",
      "|e22d2eabc2d4c19688| 13|        12|\n",
      "|850badf89ed8f06854| 12|        13|\n",
      "|aa0bd72b729fab6e9e| 12|        14|\n",
      "|2813e59cf6c1ff698e| 11|        15|\n",
      "|5dc768b2f067c56f77| 11|        16|\n",
      "|5eff3a5bfc0687351e| 11|        17|\n",
      "|75d295377a46f83236| 11|        18|\n",
      "|157e3e9278e32aba3e| 10|        19|\n",
      "|d63386c884aeb9f71d| 10|        20|\n",
      "+------------------+---+----------+\n",
      "only showing top 20 rows\n",
      "\n"
     ]
    }
   ],
   "source": [
    "from pyspark.sql.functions import col,dense_rank,count\n",
    "from pyspark.sql.window import Window\n",
    "\n",
    "calc_df = google_gmail_emails\\\n",
    "    .groupBy(col(\"from_user\"))\\\n",
    "    .agg(count(\"id\").alias(\"cnt\"))\n",
    "\n",
    "calc_df\\\n",
    "    .withColumn(\"row_number\",dense_rank().over(Window.orderBy(col(\"cnt\").desc(),col(\"from_user\"))))\\\n",
    "    .show()"
   ],
   "metadata": {
    "collapsed": false,
    "pycharm": {
     "name": "#%%\n"
    }
   }
  },
  {
   "cell_type": "code",
   "execution_count": null,
   "outputs": [],
   "source": [],
   "metadata": {
    "collapsed": false,
    "pycharm": {
     "name": "#%%\n"
    }
   }
  }
 ],
 "metadata": {
  "kernelspec": {
   "display_name": "Python 3",
   "language": "python",
   "name": "python3"
  },
  "language_info": {
   "codemirror_mode": {
    "name": "ipython",
    "version": 2
   },
   "file_extension": ".py",
   "mimetype": "text/x-python",
   "name": "python",
   "nbconvert_exporter": "python",
   "pygments_lexer": "ipython2",
   "version": "2.7.6"
  }
 },
 "nbformat": 4,
 "nbformat_minor": 0
}