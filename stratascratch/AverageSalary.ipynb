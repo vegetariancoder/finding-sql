{
 "cells": [
  {
   "cell_type": "code",
   "execution_count": 1,
   "outputs": [
    {
     "name": "stderr",
     "output_type": "stream",
     "text": [
      "22/09/14 19:57:20 WARN Utils: Your hostname, Sahils-MacBook-Pro.local resolves to a loopback address: 127.0.0.1; using 192.168.2.21 instead (on interface en0)\n",
      "22/09/14 19:57:20 WARN Utils: Set SPARK_LOCAL_IP if you need to bind to another address\n",
      "22/09/14 19:57:21 WARN NativeCodeLoader: Unable to load native-hadoop library for your platform... using builtin-java classes where applicable\n",
      "Using Spark's default log4j profile: org/apache/spark/log4j-defaults.properties\n",
      "Setting default log level to \"WARN\".\n",
      "To adjust logging level use sc.setLogLevel(newLevel). For SparkR, use setLogLevel(newLevel).\n"
     ]
    }
   ],
   "source": [
    "from pyspark.sql import SparkSession\n",
    "\n",
    "spark = SparkSession \\\n",
    "    .builder \\\n",
    "    .config(\"spark.jars\",\n",
    "            \"/Users/sahilnagpal/Downloads/mysql-connector-java-8.0.29/mysql-connector-java-8.0.29.jar\") \\\n",
    "    .master(\"local[*]\") \\\n",
    "    .appName(\"leetcode-problems\") \\\n",
    "    .getOrCreate()"
   ],
   "metadata": {
    "collapsed": false,
    "pycharm": {
     "name": "#%%\n"
    }
   }
  },
  {
   "cell_type": "code",
   "execution_count": 2,
   "outputs": [],
   "source": [
    "df = spark\\\n",
    "    .read\\\n",
    "    .format(\"csv\")\\\n",
    "    .option(\"header\",True)\\\n",
    "    .option(\"delimiter\",\",\")\\\n",
    "    .load(\"/Users/sahilnagpal/Desktop/finding-sql/stratascratch/data.txt\")"
   ],
   "metadata": {
    "collapsed": false,
    "pycharm": {
     "name": "#%%\n"
    }
   }
  },
  {
   "cell_type": "code",
   "execution_count": 10,
   "outputs": [],
   "source": [
    "from pyspark.sql.functions import col,avg\n",
    "\n",
    "avg_salary_df = df\\\n",
    "    .groupBy(col(\"department\").alias(\"dept\"))\\\n",
    "    .agg(avg(\"salary\").alias(\"avg_salary\"))"
   ],
   "metadata": {
    "collapsed": false,
    "pycharm": {
     "name": "#%%\n"
    }
   }
  },
  {
   "cell_type": "code",
   "execution_count": 15,
   "outputs": [
    {
     "name": "stdout",
     "output_type": "stream",
     "text": [
      "+----------+----------+------+------------------+\n",
      "|department|first_name|salary|        avg_salary|\n",
      "+----------+----------+------+------------------+\n",
      "|     Sales|       Max|  1300|            1150.0|\n",
      "|Management|     Katty|150000|166666.66666666666|\n",
      "|Management|   Richerd|250000|166666.66666666666|\n",
      "|     Sales|  Jennifer|  1000|            1150.0|\n",
      "|Management|    George|100000|166666.66666666666|\n",
      "+----------+----------+------+------------------+\n",
      "\n"
     ]
    }
   ],
   "source": [
    "df\\\n",
    "    .join(avg_salary_df,df.department==avg_salary_df.dept,\"inner\")\\\n",
    "    .select(\"department\",\"first_name\",\"salary\",\"avg_salary\")\\\n",
    "    .show()"
   ],
   "metadata": {
    "collapsed": false,
    "pycharm": {
     "name": "#%%\n"
    }
   }
  },
  {
   "cell_type": "code",
   "execution_count": null,
   "outputs": [],
   "source": [],
   "metadata": {
    "collapsed": false,
    "pycharm": {
     "name": "#%%\n"
    }
   }
  }
 ],
 "metadata": {
  "kernelspec": {
   "display_name": "Python 3",
   "language": "python",
   "name": "python3"
  },
  "language_info": {
   "codemirror_mode": {
    "name": "ipython",
    "version": 2
   },
   "file_extension": ".py",
   "mimetype": "text/x-python",
   "name": "python",
   "nbconvert_exporter": "python",
   "pygments_lexer": "ipython2",
   "version": "2.7.6"
  }
 },
 "nbformat": 4,
 "nbformat_minor": 0
}